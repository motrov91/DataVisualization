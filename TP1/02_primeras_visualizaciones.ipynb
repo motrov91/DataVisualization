{
  "nbformat": 4,
  "nbformat_minor": 0,
  "metadata": {
    "colab": {
      "provenance": [],
      "authorship_tag": "ABX9TyPLc3cfI6CRdmgSf5z+D6oy",
      "include_colab_link": true
    },
    "kernelspec": {
      "name": "python3",
      "display_name": "Python 3"
    },
    "language_info": {
      "name": "python"
    }
  },
  "cells": [
    {
      "cell_type": "markdown",
      "metadata": {
        "id": "view-in-github",
        "colab_type": "text"
      },
      "source": [
        "<a href=\"https://colab.research.google.com/github/motrov91/DataVisualization/blob/main/TP1/02_primeras_visualizaciones.ipynb\" target=\"_parent\"><img src=\"https://colab.research.google.com/assets/colab-badge.svg\" alt=\"Open In Colab\"/></a>"
      ]
    },
    {
      "cell_type": "markdown",
      "source": [
        "#primeras visualizaciones"
      ],
      "metadata": {
        "id": "eZec18b3-Aco"
      }
    },
    {
      "cell_type": "code",
      "source": [],
      "metadata": {
        "id": "cL9gOKcC-SxB"
      },
      "execution_count": null,
      "outputs": []
    }
  ]
}